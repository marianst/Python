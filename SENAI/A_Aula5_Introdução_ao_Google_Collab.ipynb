{
  "nbformat": 4,
  "nbformat_minor": 0,
  "metadata": {
    "colab": {
      "provenance": []
    },
    "kernelspec": {
      "name": "python3",
      "display_name": "Python 3"
    },
    "language_info": {
      "name": "python"
    }
  },
  "cells": [
    {
      "cell_type": "markdown",
      "source": [
        "# Introdução ao Google collab"
      ],
      "metadata": {
        "id": "ECDNWtcpiXsa"
      }
    },
    {
      "cell_type": "markdown",
      "source": [
        "Neste Bloco de notas executaremos algumas funções do python para nos ambientarmos com a plataforma."
      ],
      "metadata": {
        "id": "htS9umoTiMw1"
      }
    },
    {
      "cell_type": "markdown",
      "source": [
        "## Função Print"
      ],
      "metadata": {
        "id": "qk_eA_8vnK96"
      }
    },
    {
      "cell_type": "markdown",
      "source": [
        "Exemplo de como a função print pode ser utilizada."
      ],
      "metadata": {
        "id": "MnJL3w3GncYj"
      }
    },
    {
      "cell_type": "code",
      "execution_count": null,
      "metadata": {
        "id": "tIGZER8tiH6O",
        "colab": {
          "base_uri": "https://localhost:8080/"
        },
        "outputId": "72f790ae-12a8-4f06-b3bb-826ae823ba4a"
      },
      "outputs": [
        {
          "output_type": "stream",
          "name": "stdout",
          "text": [
            "Seja bem vindo ao curso!!\n"
          ]
        }
      ],
      "source": [
        "print('Seja bem vindo ao curso!!')"
      ]
    },
    {
      "cell_type": "markdown",
      "source": [
        "Digite abaixo a função print, para que ela retorne o seu nome.\n",
        "\n",
        "print('Digite seu nome')\n"
      ],
      "metadata": {
        "id": "wXrE6nS-npoD"
      }
    },
    {
      "cell_type": "code",
      "source": [
        "print('Mariana')"
      ],
      "metadata": {
        "id": "WBX9uZOOnl-D",
        "colab": {
          "base_uri": "https://localhost:8080/"
        },
        "outputId": "8389fc80-36a4-42cc-b75a-058206e7f3b8"
      },
      "execution_count": null,
      "outputs": [
        {
          "output_type": "stream",
          "name": "stdout",
          "text": [
            "Mariana\n"
          ]
        }
      ]
    },
    {
      "cell_type": "markdown",
      "source": [
        "Crie um campo de código e imprima seu nome completo."
      ],
      "metadata": {
        "id": "qP1SEODZn-mq"
      }
    },
    {
      "cell_type": "code",
      "source": [
        "print('Mariana dos Santos Silva')"
      ],
      "metadata": {
        "id": "sBNh9EwblDuQ",
        "colab": {
          "base_uri": "https://localhost:8080/"
        },
        "outputId": "a919e8fb-39fb-4be1-c586-dfe5ac0555ec"
      },
      "execution_count": null,
      "outputs": [
        {
          "output_type": "stream",
          "name": "stdout",
          "text": [
            "Mariana dos Santos Silva\n"
          ]
        }
      ]
    },
    {
      "cell_type": "markdown",
      "source": [
        "## Operações matemáticas"
      ],
      "metadata": {
        "id": "IYxuRismoSGS"
      }
    },
    {
      "cell_type": "markdown",
      "source": [
        "###Soma"
      ],
      "metadata": {
        "id": "IZ7h242UocsD"
      }
    },
    {
      "cell_type": "markdown",
      "source": [
        "Exemplo 2+2"
      ],
      "metadata": {
        "id": "mTWeNcYbuE0v"
      }
    },
    {
      "cell_type": "code",
      "source": [
        "2+2"
      ],
      "metadata": {
        "id": "6T0HCwEmKIxH",
        "colab": {
          "base_uri": "https://localhost:8080/"
        },
        "outputId": "ab00b890-0b4d-4297-de2e-02624d980f4c"
      },
      "execution_count": null,
      "outputs": [
        {
          "output_type": "execute_result",
          "data": {
            "text/plain": [
              "4"
            ]
          },
          "metadata": {},
          "execution_count": 7
        }
      ]
    },
    {
      "cell_type": "markdown",
      "source": [
        "Some 2+5 na celula abaixo"
      ],
      "metadata": {
        "id": "DHs1YrHTlL2G"
      }
    },
    {
      "cell_type": "code",
      "source": [
        "2+5"
      ],
      "metadata": {
        "id": "266fiTjJlOYs",
        "colab": {
          "base_uri": "https://localhost:8080/"
        },
        "outputId": "5b46c744-c1b7-4269-ef48-15910b196faa"
      },
      "execution_count": null,
      "outputs": [
        {
          "output_type": "execute_result",
          "data": {
            "text/plain": [
              "7"
            ]
          },
          "metadata": {},
          "execution_count": 8
        }
      ]
    },
    {
      "cell_type": "markdown",
      "source": [
        "Some 3+8 na celula abaixo"
      ],
      "metadata": {
        "id": "Fepx2B8AlPkF"
      }
    },
    {
      "cell_type": "code",
      "source": [
        "3+8"
      ],
      "metadata": {
        "id": "-0bVuDPnlQ3t",
        "colab": {
          "base_uri": "https://localhost:8080/"
        },
        "outputId": "b5d489ca-c7e3-4214-82fb-c47d5b1bfe98"
      },
      "execution_count": null,
      "outputs": [
        {
          "output_type": "execute_result",
          "data": {
            "text/plain": [
              "11"
            ]
          },
          "metadata": {},
          "execution_count": 9
        }
      ]
    },
    {
      "cell_type": "markdown",
      "source": [
        "###Subtração"
      ],
      "metadata": {
        "id": "uTZGJLtQohoD"
      }
    },
    {
      "cell_type": "code",
      "source": [
        "2-1"
      ],
      "metadata": {
        "id": "5sm5F9y7ogVE",
        "colab": {
          "base_uri": "https://localhost:8080/"
        },
        "outputId": "710ef04e-e978-407c-ff4a-4ef1e44fc99b"
      },
      "execution_count": null,
      "outputs": [
        {
          "output_type": "execute_result",
          "data": {
            "text/plain": [
              "1"
            ]
          },
          "metadata": {},
          "execution_count": 10
        }
      ]
    },
    {
      "cell_type": "markdown",
      "source": [
        "5-4"
      ],
      "metadata": {
        "id": "Vmjv5fjdlTcH"
      }
    },
    {
      "cell_type": "code",
      "source": [
        "5-4"
      ],
      "metadata": {
        "id": "ZIiw7fyalUv1",
        "colab": {
          "base_uri": "https://localhost:8080/"
        },
        "outputId": "8ac01d3f-0791-4e7d-82ef-bdb2bb91634c"
      },
      "execution_count": null,
      "outputs": [
        {
          "output_type": "execute_result",
          "data": {
            "text/plain": [
              "1"
            ]
          },
          "metadata": {},
          "execution_count": 11
        }
      ]
    },
    {
      "cell_type": "markdown",
      "source": [
        "###Divisão"
      ],
      "metadata": {
        "id": "hVFeCcGgouT7"
      }
    },
    {
      "cell_type": "markdown",
      "source": [
        "Exemplo 4/2"
      ],
      "metadata": {
        "id": "2he9suaAuYMe"
      }
    },
    {
      "cell_type": "code",
      "source": [
        "4/2"
      ],
      "metadata": {
        "id": "Sf5tk7JSpYbr",
        "colab": {
          "base_uri": "https://localhost:8080/"
        },
        "outputId": "8f93c506-aafc-4108-ca21-f0ecf22d713b"
      },
      "execution_count": null,
      "outputs": [
        {
          "output_type": "execute_result",
          "data": {
            "text/plain": [
              "2.0"
            ]
          },
          "metadata": {},
          "execution_count": 12
        }
      ]
    },
    {
      "cell_type": "markdown",
      "source": [
        "64/8"
      ],
      "metadata": {
        "id": "XShIsQMXlZYU"
      }
    },
    {
      "cell_type": "code",
      "source": [
        "64/8"
      ],
      "metadata": {
        "id": "iFbCq_G3lbha",
        "colab": {
          "base_uri": "https://localhost:8080/"
        },
        "outputId": "e0975ac8-3ba9-4402-be77-7df25a2f59d8"
      },
      "execution_count": null,
      "outputs": [
        {
          "output_type": "execute_result",
          "data": {
            "text/plain": [
              "8.0"
            ]
          },
          "metadata": {},
          "execution_count": 13
        }
      ]
    },
    {
      "cell_type": "markdown",
      "source": [
        "###Multiplicação"
      ],
      "metadata": {
        "id": "ZvItkY2Xo7br"
      }
    },
    {
      "cell_type": "code",
      "source": [
        "3*3"
      ],
      "metadata": {
        "id": "E1rO6xo8pZB7",
        "colab": {
          "base_uri": "https://localhost:8080/"
        },
        "outputId": "3edf9ec8-d129-415e-b61c-dcd6d57ec7b6"
      },
      "execution_count": null,
      "outputs": [
        {
          "output_type": "execute_result",
          "data": {
            "text/plain": [
              "9"
            ]
          },
          "metadata": {},
          "execution_count": 14
        }
      ]
    },
    {
      "cell_type": "markdown",
      "source": [
        "165 * 154"
      ],
      "metadata": {
        "id": "i3SXXdw_mlyY"
      }
    },
    {
      "cell_type": "code",
      "source": [
        "165 * 154"
      ],
      "metadata": {
        "id": "p26Tq6OlKvD3",
        "colab": {
          "base_uri": "https://localhost:8080/"
        },
        "outputId": "ed502b57-c872-40f5-8b0c-c4f1a2770abb"
      },
      "execution_count": null,
      "outputs": [
        {
          "output_type": "execute_result",
          "data": {
            "text/plain": [
              "25410"
            ]
          },
          "metadata": {},
          "execution_count": 15
        }
      ]
    },
    {
      "cell_type": "markdown",
      "source": [
        "###Exponenciação"
      ],
      "metadata": {
        "id": "WLteatAAo9MT"
      }
    },
    {
      "cell_type": "markdown",
      "source": [
        "3 elevado a potência de 2"
      ],
      "metadata": {
        "id": "ksbhBfwYLApf"
      }
    },
    {
      "cell_type": "code",
      "source": [
        "3**2"
      ],
      "metadata": {
        "id": "uzqVY4vrpZ2r",
        "colab": {
          "base_uri": "https://localhost:8080/"
        },
        "outputId": "832dc7cd-f632-4a95-be10-1ad58b46e596"
      },
      "execution_count": null,
      "outputs": [
        {
          "output_type": "execute_result",
          "data": {
            "text/plain": [
              "9"
            ]
          },
          "metadata": {},
          "execution_count": 16
        }
      ]
    },
    {
      "cell_type": "markdown",
      "source": [
        "5 elevado a potência de 3"
      ],
      "metadata": {
        "id": "RIlNS1cmmyHm"
      }
    },
    {
      "cell_type": "code",
      "source": [
        "5**3"
      ],
      "metadata": {
        "id": "oMri3Hptm2M-",
        "colab": {
          "base_uri": "https://localhost:8080/"
        },
        "outputId": "43f9edc8-7f6c-4666-fdc5-29c634663034"
      },
      "execution_count": null,
      "outputs": [
        {
          "output_type": "execute_result",
          "data": {
            "text/plain": [
              "125"
            ]
          },
          "metadata": {},
          "execution_count": 17
        }
      ]
    },
    {
      "cell_type": "markdown",
      "source": [
        "###Resto da Divisão"
      ],
      "metadata": {
        "id": "Zb4kTtG6pEhD"
      }
    },
    {
      "cell_type": "markdown",
      "source": [
        "Resto de uma divisão de 16 por 5"
      ],
      "metadata": {
        "id": "ApylzEb5uvTN"
      }
    },
    {
      "cell_type": "code",
      "source": [
        "16 % 5"
      ],
      "metadata": {
        "id": "dmBlhATVpaWL",
        "colab": {
          "base_uri": "https://localhost:8080/"
        },
        "outputId": "985b4f6a-e9dd-491c-c97b-752379226793"
      },
      "execution_count": null,
      "outputs": [
        {
          "output_type": "execute_result",
          "data": {
            "text/plain": [
              "1"
            ]
          },
          "metadata": {},
          "execution_count": 18
        }
      ]
    },
    {
      "cell_type": "markdown",
      "source": [
        "Resto da divisão de 9 por 6"
      ],
      "metadata": {
        "id": "CB8iqYITnERA"
      }
    },
    {
      "cell_type": "code",
      "source": [
        "9/6"
      ],
      "metadata": {
        "id": "zGRXKjfKnEw0",
        "colab": {
          "base_uri": "https://localhost:8080/"
        },
        "outputId": "a0a59bc8-04d5-4b30-e4ac-0142daed11cd"
      },
      "execution_count": null,
      "outputs": [
        {
          "output_type": "execute_result",
          "data": {
            "text/plain": [
              "1.5"
            ]
          },
          "metadata": {},
          "execution_count": 19
        }
      ]
    },
    {
      "cell_type": "markdown",
      "source": [
        "###Raiz Quadrada"
      ],
      "metadata": {
        "id": "QyWt29f6pGFb"
      }
    },
    {
      "cell_type": "markdown",
      "source": [
        "Raiz de 4"
      ],
      "metadata": {
        "id": "QBNJpvtuu3xG"
      }
    },
    {
      "cell_type": "code",
      "source": [
        "4 ** (1/2)"
      ],
      "metadata": {
        "id": "VS8XPyiKph5D",
        "colab": {
          "base_uri": "https://localhost:8080/"
        },
        "outputId": "3a2abf30-5d8d-4bae-d182-5cf737fba8fe"
      },
      "execution_count": null,
      "outputs": [
        {
          "output_type": "execute_result",
          "data": {
            "text/plain": [
              "2.0"
            ]
          },
          "metadata": {},
          "execution_count": 20
        }
      ]
    },
    {
      "cell_type": "markdown",
      "source": [
        "Raiz de 6"
      ],
      "metadata": {
        "id": "SFUaz67hnMCH"
      }
    },
    {
      "cell_type": "code",
      "source": [
        "6 ** (1/2)"
      ],
      "metadata": {
        "id": "dBrUf-GunO-I",
        "colab": {
          "base_uri": "https://localhost:8080/"
        },
        "outputId": "8957be85-71f6-4cfd-b13a-784b91a9253b"
      },
      "execution_count": null,
      "outputs": [
        {
          "output_type": "execute_result",
          "data": {
            "text/plain": [
              "2.449489742783178"
            ]
          },
          "metadata": {},
          "execution_count": 25
        }
      ]
    },
    {
      "cell_type": "markdown",
      "source": [
        "raiz de 49"
      ],
      "metadata": {
        "id": "64cXxVZLnPT2"
      }
    },
    {
      "cell_type": "code",
      "source": [
        "49 ** (1/2)"
      ],
      "metadata": {
        "id": "Uf_YqVKhnSZF",
        "colab": {
          "base_uri": "https://localhost:8080/"
        },
        "outputId": "3fd747f5-d5a2-4e59-dd07-681e66dc5890"
      },
      "execution_count": null,
      "outputs": [
        {
          "output_type": "execute_result",
          "data": {
            "text/plain": [
              "7.0"
            ]
          },
          "metadata": {},
          "execution_count": 26
        }
      ]
    },
    {
      "cell_type": "markdown",
      "source": [
        "###Raiz Quadrada com biblioteca"
      ],
      "metadata": {
        "id": "qBcuYHRBped6"
      }
    },
    {
      "cell_type": "code",
      "source": [
        "import math as m\n",
        "m.sqrt(4)"
      ],
      "metadata": {
        "id": "wDUsh9t2phY7",
        "colab": {
          "base_uri": "https://localhost:8080/"
        },
        "outputId": "670dc172-3a7c-4e8b-ff01-8687a6520528"
      },
      "execution_count": null,
      "outputs": [
        {
          "output_type": "execute_result",
          "data": {
            "text/plain": [
              "2.0"
            ]
          },
          "metadata": {},
          "execution_count": 27
        }
      ]
    },
    {
      "cell_type": "markdown",
      "source": [
        "Raiz quadrada de 64"
      ],
      "metadata": {
        "id": "bbvi5XQ0pBgs"
      }
    },
    {
      "cell_type": "code",
      "source": [
        "m.sqrt(64)"
      ],
      "metadata": {
        "id": "b6hfTLCZpE5Y",
        "colab": {
          "base_uri": "https://localhost:8080/"
        },
        "outputId": "398b6a41-43e8-4974-a49c-6e89d81fbf49"
      },
      "execution_count": null,
      "outputs": [
        {
          "output_type": "execute_result",
          "data": {
            "text/plain": [
              "8.0"
            ]
          },
          "metadata": {},
          "execution_count": 28
        }
      ]
    },
    {
      "cell_type": "markdown",
      "source": [
        "Texte raizes anteriores com a biblioteca"
      ],
      "metadata": {
        "id": "fxDI5ZJVxHMQ"
      }
    },
    {
      "cell_type": "code",
      "source": [
        "m.sqrt(6)"
      ],
      "metadata": {
        "colab": {
          "base_uri": "https://localhost:8080/"
        },
        "id": "5qGd3QgrxGwI",
        "outputId": "6b86190c-8741-4c7d-ae55-5f405866780c"
      },
      "execution_count": null,
      "outputs": [
        {
          "output_type": "execute_result",
          "data": {
            "text/plain": [
              "2.449489742783178"
            ]
          },
          "metadata": {},
          "execution_count": 30
        }
      ]
    },
    {
      "cell_type": "markdown",
      "source": [
        "Para mais informações a reapeito da biblioteca math, segue o link para a documentação da biblioteca.\n",
        "\n",
        "https://docs.python.org/pt-br/3/library/math.html"
      ],
      "metadata": {
        "id": "zdUxkc8ykxSD"
      }
    },
    {
      "cell_type": "markdown",
      "source": [
        "### Exemplo de aplicação"
      ],
      "metadata": {
        "id": "yS0BMZ4tu2Wi"
      }
    },
    {
      "cell_type": "code",
      "source": [
        "import math as m\n",
        "num = float(input(\"Entre com um número:\\n\"))\n",
        "raiz = m.sqrt(num)\n",
        "print(f'\\nA raiz quadrada de {num} é {raiz}\\n')"
      ],
      "metadata": {
        "id": "gl0_uBw4vHi9",
        "colab": {
          "base_uri": "https://localhost:8080/"
        },
        "outputId": "1882aaaf-9c5b-4d8a-a518-c44118d2ac66"
      },
      "execution_count": null,
      "outputs": [
        {
          "output_type": "stream",
          "name": "stdout",
          "text": [
            "Entre com um número:\n",
            "49\n",
            "\n",
            "A raiz quadrada de 49.0 é 7.0\n",
            "\n"
          ]
        }
      ]
    },
    {
      "cell_type": "markdown",
      "source": [
        "## Variáveis e Type"
      ],
      "metadata": {
        "id": "0wObrDCYpU8T"
      }
    },
    {
      "cell_type": "markdown",
      "source": [
        "Variaveis são uma forma de armazenar informações para usa-las dentro e outras funções, segue os exemplos:"
      ],
      "metadata": {
        "id": "mkSYbOOiRYSI"
      }
    },
    {
      "cell_type": "markdown",
      "source": [
        "Variaveis do tipo int - Números inteiros"
      ],
      "metadata": {
        "id": "IBgXMM8IRkP2"
      }
    },
    {
      "cell_type": "code",
      "source": [
        "idade = 18"
      ],
      "metadata": {
        "id": "G4Ei9lrDtT0f"
      },
      "execution_count": null,
      "outputs": []
    },
    {
      "cell_type": "code",
      "source": [
        "idade"
      ],
      "metadata": {
        "id": "wGRxYPUHtXUI",
        "colab": {
          "base_uri": "https://localhost:8080/"
        },
        "outputId": "3426741b-e031-4fe7-fa17-bf839aae489d"
      },
      "execution_count": null,
      "outputs": [
        {
          "output_type": "execute_result",
          "data": {
            "text/plain": [
              "18"
            ]
          },
          "metadata": {},
          "execution_count": 34
        }
      ]
    },
    {
      "cell_type": "code",
      "source": [
        "print(idade)"
      ],
      "metadata": {
        "id": "VHrbX0keYC-O",
        "colab": {
          "base_uri": "https://localhost:8080/"
        },
        "outputId": "b0a6a7ee-40f0-47fb-b649-25cff9acbaae"
      },
      "execution_count": null,
      "outputs": [
        {
          "output_type": "stream",
          "name": "stdout",
          "text": [
            "18\n"
          ]
        }
      ]
    },
    {
      "cell_type": "code",
      "source": [
        "\n",
        "type(idade)"
      ],
      "metadata": {
        "id": "UFlEPD4dYEIf",
        "colab": {
          "base_uri": "https://localhost:8080/"
        },
        "outputId": "3a3cebdf-a33d-4131-d6b6-0b1204746302"
      },
      "execution_count": null,
      "outputs": [
        {
          "output_type": "execute_result",
          "data": {
            "text/plain": [
              "int"
            ]
          },
          "metadata": {},
          "execution_count": 36
        }
      ]
    },
    {
      "cell_type": "markdown",
      "source": [
        "Variaveis do tipo float - Números decimais"
      ],
      "metadata": {
        "id": "thS0-dWcSNd2"
      }
    },
    {
      "cell_type": "code",
      "source": [
        "altura = 1.70"
      ],
      "metadata": {
        "id": "H6AYHvJktgjj"
      },
      "execution_count": null,
      "outputs": []
    },
    {
      "cell_type": "code",
      "source": [
        "altura"
      ],
      "metadata": {
        "id": "vZRCfpWktsuW",
        "colab": {
          "base_uri": "https://localhost:8080/"
        },
        "outputId": "9e3bed13-d7e0-4509-a03e-48ae7ebc1dd5"
      },
      "execution_count": null,
      "outputs": [
        {
          "output_type": "execute_result",
          "data": {
            "text/plain": [
              "1.7"
            ]
          },
          "metadata": {},
          "execution_count": 38
        }
      ]
    },
    {
      "cell_type": "code",
      "source": [
        "type(altura)"
      ],
      "metadata": {
        "id": "m5Zzgt3QttB1",
        "colab": {
          "base_uri": "https://localhost:8080/"
        },
        "outputId": "01c60b6e-4c17-48e0-e7f3-31077ca44b03"
      },
      "execution_count": null,
      "outputs": [
        {
          "output_type": "execute_result",
          "data": {
            "text/plain": [
              "float"
            ]
          },
          "metadata": {},
          "execution_count": 45
        }
      ]
    },
    {
      "cell_type": "markdown",
      "source": [
        "Variaveis do tipo string - Palavras, frases ou textos"
      ],
      "metadata": {
        "id": "ZE31RgkrSyaY"
      }
    },
    {
      "cell_type": "code",
      "source": [
        "nome = \"Mariana\""
      ],
      "metadata": {
        "id": "7x1COoLVS4_1"
      },
      "execution_count": null,
      "outputs": []
    },
    {
      "cell_type": "code",
      "source": [
        "nome"
      ],
      "metadata": {
        "id": "_qawj6xrtt_n",
        "colab": {
          "base_uri": "https://localhost:8080/",
          "height": 35
        },
        "outputId": "a9812673-49aa-4bbf-8ad9-2f6d04208ba1"
      },
      "execution_count": null,
      "outputs": [
        {
          "output_type": "execute_result",
          "data": {
            "text/plain": [
              "'Mariana'"
            ],
            "application/vnd.google.colaboratory.intrinsic+json": {
              "type": "string"
            }
          },
          "metadata": {},
          "execution_count": 44
        }
      ]
    },
    {
      "cell_type": "code",
      "source": [
        "type(nome)"
      ],
      "metadata": {
        "id": "47bhQg08tuRU",
        "colab": {
          "base_uri": "https://localhost:8080/"
        },
        "outputId": "6d625fb1-8d0a-4546-bfa6-14129a331e3e"
      },
      "execution_count": null,
      "outputs": [
        {
          "output_type": "execute_result",
          "data": {
            "text/plain": [
              "str"
            ]
          },
          "metadata": {},
          "execution_count": 46
        }
      ]
    },
    {
      "cell_type": "markdown",
      "source": [
        "Variaveis do tipo Boleano - True ou False"
      ],
      "metadata": {
        "id": "oUkYpm6BTLmt"
      }
    },
    {
      "cell_type": "code",
      "source": [
        "aprovado = True"
      ],
      "metadata": {
        "id": "FzPX6bKgTTI5"
      },
      "execution_count": null,
      "outputs": []
    },
    {
      "cell_type": "code",
      "source": [
        "aprovado"
      ],
      "metadata": {
        "id": "qjxvPdgZtxKY",
        "colab": {
          "base_uri": "https://localhost:8080/"
        },
        "outputId": "6497c0d8-b90c-4a58-ea96-bf690a727ed4"
      },
      "execution_count": null,
      "outputs": [
        {
          "output_type": "execute_result",
          "data": {
            "text/plain": [
              "True"
            ]
          },
          "metadata": {},
          "execution_count": 49
        }
      ]
    },
    {
      "cell_type": "code",
      "source": [
        "type(aprovado)"
      ],
      "metadata": {
        "id": "MstgL2qJtxcU",
        "colab": {
          "base_uri": "https://localhost:8080/"
        },
        "outputId": "7b42e84a-891f-4a03-b9ec-8c6e4d1dfcff"
      },
      "execution_count": null,
      "outputs": [
        {
          "output_type": "execute_result",
          "data": {
            "text/plain": [
              "bool"
            ]
          },
          "metadata": {},
          "execution_count": 50
        }
      ]
    },
    {
      "cell_type": "markdown",
      "source": [
        "## Função Input"
      ],
      "metadata": {
        "id": "_i48kgnNVcDO"
      }
    },
    {
      "cell_type": "markdown",
      "source": [
        "A função input é usada para coletar informações dos usuarios, para que possamos salver em variaveis e depois manipular.  "
      ],
      "metadata": {
        "id": "iAb8dDjjVkgV"
      }
    },
    {
      "cell_type": "markdown",
      "source": [
        "comando <font color=blue> input()"
      ],
      "metadata": {
        "id": "mAYBZhxoV4Zd"
      }
    },
    {
      "cell_type": "markdown",
      "source": [
        "Coletando informação de nome."
      ],
      "metadata": {
        "id": "vY5V8-fJXY9-"
      }
    },
    {
      "cell_type": "code",
      "source": [
        "nome = input('Escreva seu primeiro nome:')"
      ],
      "metadata": {
        "id": "QxSW-9GaVi12",
        "colab": {
          "base_uri": "https://localhost:8080/"
        },
        "outputId": "ad74bdb0-2f90-4515-8b36-3ef2dbca961e"
      },
      "execution_count": null,
      "outputs": [
        {
          "name": "stdout",
          "output_type": "stream",
          "text": [
            "Escreva seu primeiro nome:Mariana\n"
          ]
        }
      ]
    },
    {
      "cell_type": "code",
      "source": [
        "nome"
      ],
      "metadata": {
        "id": "BcX-Yz-XXtZm",
        "colab": {
          "base_uri": "https://localhost:8080/",
          "height": 35
        },
        "outputId": "6ad98b9c-7bee-42ed-97b1-e7b9536e8ac8"
      },
      "execution_count": null,
      "outputs": [
        {
          "output_type": "execute_result",
          "data": {
            "text/plain": [
              "'Mariana'"
            ],
            "application/vnd.google.colaboratory.intrinsic+json": {
              "type": "string"
            }
          },
          "metadata": {},
          "execution_count": 52
        }
      ]
    },
    {
      "cell_type": "markdown",
      "source": [
        "Use o comando input para coletar o ano de nascimento do usuario e armazenar como variavel ano_de_nascimento"
      ],
      "metadata": {
        "id": "AiaFKo0jX-19"
      }
    },
    {
      "cell_type": "code",
      "source": [
        "ano_de_nascimento = input('Digite aqui seu ano de nascimento: ')"
      ],
      "metadata": {
        "id": "MRaZK8JeYDtc",
        "colab": {
          "base_uri": "https://localhost:8080/"
        },
        "outputId": "497b061e-fbfa-42ab-f347-b7034bc6fa4a"
      },
      "execution_count": null,
      "outputs": [
        {
          "name": "stdout",
          "output_type": "stream",
          "text": [
            "Digite aqui seu ano de nascimento: 1989\n"
          ]
        }
      ]
    },
    {
      "cell_type": "code",
      "source": [
        "ano_de_nascimento"
      ],
      "metadata": {
        "id": "awvVcws8YbuK",
        "colab": {
          "base_uri": "https://localhost:8080/",
          "height": 35
        },
        "outputId": "b61572e2-74c9-4e48-9cc1-b1fc25f3dcfc"
      },
      "execution_count": null,
      "outputs": [
        {
          "output_type": "execute_result",
          "data": {
            "text/plain": [
              "'1989'"
            ],
            "application/vnd.google.colaboratory.intrinsic+json": {
              "type": "string"
            }
          },
          "metadata": {},
          "execution_count": 54
        }
      ]
    },
    {
      "cell_type": "code",
      "source": [
        "type(ano_de_nascimento)"
      ],
      "metadata": {
        "id": "IxvAUVgMYiWm",
        "colab": {
          "base_uri": "https://localhost:8080/"
        },
        "outputId": "c005370c-9034-48d5-b308-f5497d2ead44"
      },
      "execution_count": null,
      "outputs": [
        {
          "output_type": "execute_result",
          "data": {
            "text/plain": [
              "str"
            ]
          },
          "metadata": {},
          "execution_count": 55
        }
      ]
    },
    {
      "cell_type": "markdown",
      "source": [
        "Converter de String para Int"
      ],
      "metadata": {
        "id": "hgF5UnPxY8Wv"
      }
    },
    {
      "cell_type": "code",
      "source": [
        "ano_de_nascimento = int(input('Digite aqui seu ano de nascimento: '))"
      ],
      "metadata": {
        "id": "fgy3ldcmaIEZ",
        "colab": {
          "base_uri": "https://localhost:8080/"
        },
        "outputId": "25810ad8-5663-4768-eab3-3673f452eb1f"
      },
      "execution_count": null,
      "outputs": [
        {
          "name": "stdout",
          "output_type": "stream",
          "text": [
            "Digite aqui seu ano de nascimento: 1989\n"
          ]
        }
      ]
    },
    {
      "cell_type": "code",
      "source": [
        "type(ano_de_nascimento)"
      ],
      "metadata": {
        "id": "ZU9BSqiLaTl5",
        "colab": {
          "base_uri": "https://localhost:8080/"
        },
        "outputId": "41eb3626-45ed-4c6a-95b9-226aabef28d0"
      },
      "execution_count": null,
      "outputs": [
        {
          "output_type": "execute_result",
          "data": {
            "text/plain": [
              "int"
            ]
          },
          "metadata": {},
          "execution_count": 57
        }
      ]
    },
    {
      "cell_type": "code",
      "source": [
        "mes_de_nascimento = int(input('Qual seu mês de nscimento? '))"
      ],
      "metadata": {
        "id": "0t49EpGOao96",
        "colab": {
          "base_uri": "https://localhost:8080/"
        },
        "outputId": "d4edf3c5-7a3f-4d0c-860a-41a5b5f30de2"
      },
      "execution_count": null,
      "outputs": [
        {
          "name": "stdout",
          "output_type": "stream",
          "text": [
            "Qual seu mês de nscimento? 11\n"
          ]
        }
      ]
    },
    {
      "cell_type": "code",
      "source": [
        "dia_de_nascimento = int(input('Qual seu dia de nascimento? '))"
      ],
      "metadata": {
        "id": "EJvSrPuEa-lW",
        "colab": {
          "base_uri": "https://localhost:8080/"
        },
        "outputId": "6b07c077-5569-41d5-ffc7-df70d8118e59"
      },
      "execution_count": null,
      "outputs": [
        {
          "name": "stdout",
          "output_type": "stream",
          "text": [
            "Qual seu dia de nascimento? 18\n"
          ]
        }
      ]
    },
    {
      "cell_type": "code",
      "source": [
        "print(ano_de_nascimento)\n",
        "print(mes_de_nascimento)\n",
        "print(dia_de_nascimento)"
      ],
      "metadata": {
        "id": "WCZEvIZ8vh2R",
        "colab": {
          "base_uri": "https://localhost:8080/"
        },
        "outputId": "d758e9e9-2d94-40e9-cb8e-9f2b76c28252"
      },
      "execution_count": null,
      "outputs": [
        {
          "output_type": "stream",
          "name": "stdout",
          "text": [
            "1989\n",
            "11\n",
            "18\n"
          ]
        }
      ]
    },
    {
      "cell_type": "code",
      "source": [
        "print(f'Data de nascimento: {dia_de_nascimento} / {mes_de_nascimento} / {ano_de_nascimento}')"
      ],
      "metadata": {
        "id": "nCo5enG9bar2",
        "colab": {
          "base_uri": "https://localhost:8080/"
        },
        "outputId": "3cba750f-b7b5-41c4-bc7c-98c60052a0fe"
      },
      "execution_count": null,
      "outputs": [
        {
          "output_type": "stream",
          "name": "stdout",
          "text": [
            "Data de nascimento: 18 / 11 / 1989\n"
          ]
        }
      ]
    },
    {
      "cell_type": "markdown",
      "source": [
        "## Exemplos"
      ],
      "metadata": {
        "id": "eB995qA7do2c"
      }
    },
    {
      "cell_type": "markdown",
      "source": [
        "1) Instruções para coletar dois números e informar o resultado da soma."
      ],
      "metadata": {
        "id": "aejMaJvwdug7"
      }
    },
    {
      "cell_type": "code",
      "source": [
        "numero1 = int(input('Qual é o valor do primeiro número? '))"
      ],
      "metadata": {
        "id": "TlMkarzAd6GJ",
        "colab": {
          "base_uri": "https://localhost:8080/"
        },
        "outputId": "a55ae8f2-6ce5-4652-f7b0-c3e90dd4a081"
      },
      "execution_count": null,
      "outputs": [
        {
          "name": "stdout",
          "output_type": "stream",
          "text": [
            "Qual é o valor do primeiro número? 15\n"
          ]
        }
      ]
    },
    {
      "cell_type": "code",
      "source": [
        "numero2 = int(input('Qual é o valor do segundo número? '))"
      ],
      "metadata": {
        "id": "1iBv85sLesUM",
        "colab": {
          "base_uri": "https://localhost:8080/"
        },
        "outputId": "34ad7c4a-00e3-4060-bcea-1e9452585ee5"
      },
      "execution_count": null,
      "outputs": [
        {
          "name": "stdout",
          "output_type": "stream",
          "text": [
            "Qual é o valor do segundo número? 8\n"
          ]
        }
      ]
    },
    {
      "cell_type": "code",
      "source": [
        "resultado = numero1 + numero2"
      ],
      "metadata": {
        "id": "XQ3eQdQ1eYq8"
      },
      "execution_count": null,
      "outputs": []
    },
    {
      "cell_type": "code",
      "source": [
        "print(f'O resultado da soma é: {resultado}')"
      ],
      "metadata": {
        "id": "5bVuePz3eROJ",
        "colab": {
          "base_uri": "https://localhost:8080/"
        },
        "outputId": "9cff033a-d595-4ff9-af58-a154372ec03a"
      },
      "execution_count": null,
      "outputs": [
        {
          "output_type": "stream",
          "name": "stdout",
          "text": [
            "O resultado da soma é: 23\n"
          ]
        }
      ]
    },
    {
      "cell_type": "markdown",
      "source": [
        "2) Tirar a média de 3 notas de prova"
      ],
      "metadata": {
        "id": "GNwEn82Chon2"
      }
    },
    {
      "cell_type": "code",
      "source": [
        "n1 = float(input('Valor da nota 1: '))\n",
        "n2 = float(input('Valor da nota 2: '))\n",
        "n3 = float(input('Valor da nota 3: '))"
      ],
      "metadata": {
        "id": "iYMlsjV_vpHD",
        "colab": {
          "base_uri": "https://localhost:8080/"
        },
        "outputId": "de70ac22-e879-4265-c2b0-8617b7409c43"
      },
      "execution_count": null,
      "outputs": [
        {
          "name": "stdout",
          "output_type": "stream",
          "text": [
            "Valor da nota 1: 7.5\n",
            "Valor da nota 2: 8\n",
            "Valor da nota 3: 6.2\n"
          ]
        }
      ]
    },
    {
      "cell_type": "code",
      "source": [
        "media_das_notas = (n1 + n2 + n3)/3"
      ],
      "metadata": {
        "id": "4g-7Xr9NixlK"
      },
      "execution_count": null,
      "outputs": []
    },
    {
      "cell_type": "code",
      "source": [
        "media_das_notas"
      ],
      "metadata": {
        "id": "2EollmOintXm",
        "colab": {
          "base_uri": "https://localhost:8080/"
        },
        "outputId": "5f696151-b1ef-4a99-c249-65c0caded37c"
      },
      "execution_count": null,
      "outputs": [
        {
          "output_type": "execute_result",
          "data": {
            "text/plain": [
              "7.233333333333333"
            ]
          },
          "metadata": {},
          "execution_count": 70
        }
      ]
    },
    {
      "cell_type": "code",
      "source": [
        "n1 = float(input('Valor da nota 1: '))\n",
        "n2 = float(input('Valor da nota 2: '))\n",
        "n3 = float(input('Valor da nota 3: '))\n",
        "\n",
        "media_das_notas = (n1 + n2 + n3)/3\n",
        "\n",
        "media_das_notas"
      ],
      "metadata": {
        "id": "Y5IlnquZvsFT",
        "colab": {
          "base_uri": "https://localhost:8080/"
        },
        "outputId": "e7640d22-aef1-4d65-bceb-729e31bab878"
      },
      "execution_count": null,
      "outputs": [
        {
          "name": "stdout",
          "output_type": "stream",
          "text": [
            "Valor da nota 1: 8.2\n",
            "Valor da nota 2: 9.5\n",
            "Valor da nota 3: 5\n"
          ]
        },
        {
          "output_type": "execute_result",
          "data": {
            "text/plain": [
              "7.566666666666666"
            ]
          },
          "metadata": {},
          "execution_count": 71
        }
      ]
    },
    {
      "cell_type": "code",
      "source": [
        "import statistics as sta\n",
        "sta.mean([n1, n2, n3])"
      ],
      "metadata": {
        "id": "RxEyES3zn9To",
        "colab": {
          "base_uri": "https://localhost:8080/"
        },
        "outputId": "63cf5b84-2957-4fbb-b16f-038e7856dbc6"
      },
      "execution_count": null,
      "outputs": [
        {
          "output_type": "execute_result",
          "data": {
            "text/plain": [
              "7.566666666666666"
            ]
          },
          "metadata": {},
          "execution_count": 72
        }
      ]
    },
    {
      "cell_type": "code",
      "source": [
        "sta.mean([n1,n2])"
      ],
      "metadata": {
        "id": "cTnTr1-_h1rM",
        "colab": {
          "base_uri": "https://localhost:8080/"
        },
        "outputId": "6e0f405a-7d5b-4f8d-dcf1-adb44432894c"
      },
      "execution_count": null,
      "outputs": [
        {
          "output_type": "execute_result",
          "data": {
            "text/plain": [
              "8.85"
            ]
          },
          "metadata": {},
          "execution_count": 73
        }
      ]
    },
    {
      "cell_type": "markdown",
      "source": [
        "https://docs.python.org/pt-br/3/library/statistics.html"
      ],
      "metadata": {
        "id": "I0N2pg0Yq9JW"
      }
    },
    {
      "cell_type": "markdown",
      "source": [
        "3) Nota máxima."
      ],
      "metadata": {
        "id": "UZi-sqdUqAhl"
      }
    },
    {
      "cell_type": "code",
      "source": [
        "max(n1, n2,n3)"
      ],
      "metadata": {
        "id": "g9vKPoCenzYo",
        "colab": {
          "base_uri": "https://localhost:8080/"
        },
        "outputId": "ae97acad-0d08-4d9c-84a5-4832191f5e73"
      },
      "execution_count": null,
      "outputs": [
        {
          "output_type": "execute_result",
          "data": {
            "text/plain": [
              "9.5"
            ]
          },
          "metadata": {},
          "execution_count": 74
        }
      ]
    },
    {
      "cell_type": "markdown",
      "source": [
        "4) Nota mínima"
      ],
      "metadata": {
        "id": "iZXtuZmpqU9k"
      }
    },
    {
      "cell_type": "code",
      "source": [
        "min(n1, n2,n3)"
      ],
      "metadata": {
        "id": "jKH6xCNwqYtU",
        "colab": {
          "base_uri": "https://localhost:8080/"
        },
        "outputId": "94dd762b-8a84-42f5-98f2-3df1c98dabfe"
      },
      "execution_count": null,
      "outputs": [
        {
          "output_type": "execute_result",
          "data": {
            "text/plain": [
              "5.0"
            ]
          },
          "metadata": {},
          "execution_count": 75
        }
      ]
    },
    {
      "cell_type": "markdown",
      "source": [
        "5) Cálculos trigonométricos"
      ],
      "metadata": {
        "id": "GVgmC5p5ptpc"
      }
    },
    {
      "cell_type": "code",
      "source": [
        "import math as m\n",
        "ang = 30\n",
        "rad = m.radians(ang)"
      ],
      "metadata": {
        "id": "SVIAMbRTf4Gs"
      },
      "execution_count": null,
      "outputs": []
    },
    {
      "cell_type": "code",
      "source": [
        "\n",
        "sen = m.sin(rad)\n",
        "cos = m.cos(rad)\n",
        "tg = m.tan(rad)"
      ],
      "metadata": {
        "id": "cRTbQWmKfuI1"
      },
      "execution_count": null,
      "outputs": []
    },
    {
      "cell_type": "code",
      "source": [
        "print(sen)\n",
        "print(cos)\n",
        "print(tg)"
      ],
      "metadata": {
        "id": "kQBHJ9Ncvv7b",
        "colab": {
          "base_uri": "https://localhost:8080/"
        },
        "outputId": "14b9bc9b-76f0-4aed-a12d-ae651588ed2c"
      },
      "execution_count": null,
      "outputs": [
        {
          "output_type": "stream",
          "name": "stdout",
          "text": [
            "0.49999999999999994\n",
            "0.8660254037844387\n",
            "0.5773502691896257\n"
          ]
        }
      ]
    },
    {
      "cell_type": "markdown",
      "source": [
        "https://docs.python.org/pt-br/3/library/math.html"
      ],
      "metadata": {
        "id": "NnFa_kW8rKjU"
      }
    },
    {
      "cell_type": "markdown",
      "source": [
        "# Exercícios"
      ],
      "metadata": {
        "id": "W0yn0H5HUaRe"
      }
    },
    {
      "cell_type": "markdown",
      "source": [
        "1) Criar uma solução que colete o nome do aluno, ano de nascimento e as 4 notas do semestre. ela deve devolver o nome do aluno, sua média, a nota mais alta, e a nota mais baixa.\n",
        "\n",
        "![image.png](data:image/png;base64,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)\n"
      ],
      "metadata": {
        "id": "1np_euvjwoW0"
      }
    },
    {
      "cell_type": "code",
      "source": [
        "nome = str(input('Informe o nome do aluno: '))\n",
        "ano = int(input('Informe o ano de nascimento: '))\n",
        "nota1 = float(input('Informe a nota 1: '))\n",
        "nota2 = float(input('Informe a nota 2: '))\n",
        "nota3 = float(input('Informe a nota 3: '))\n",
        "nota4 = float(input('Informe a nota 4: '))\n"
      ],
      "metadata": {
        "id": "XfoTSXBVL9Xu",
        "colab": {
          "base_uri": "https://localhost:8080/"
        },
        "outputId": "98f1f296-ec72-482a-ab67-73e86598174a"
      },
      "execution_count": null,
      "outputs": [
        {
          "name": "stdout",
          "output_type": "stream",
          "text": [
            "Informe o nome do aluno: Mariana\n",
            "Informe o ano de nascimento: 1989\n",
            "Informe a nota 1: 5\n",
            "Informe a nota 2: 4\n",
            "Informe a nota 3: 7\n",
            "Informe a nota 4: 8\n"
          ]
        }
      ]
    },
    {
      "cell_type": "code",
      "source": [
        "import statistics as sta\n",
        "\n",
        "sta.mean([nota1,nota2,nota3,nota4])"
      ],
      "metadata": {
        "colab": {
          "base_uri": "https://localhost:8080/"
        },
        "id": "PRfEsqPvJEa8",
        "outputId": "e8812728-036d-441b-d717-031fe0fc46a2"
      },
      "execution_count": null,
      "outputs": [
        {
          "output_type": "execute_result",
          "data": {
            "text/plain": [
              "6.0"
            ]
          },
          "metadata": {},
          "execution_count": 98
        }
      ]
    },
    {
      "cell_type": "code",
      "source": [
        "print(max(nota1,nota2,nota3,nota4))\n",
        "print(min(nota1,nota2,nota3,nota4))"
      ],
      "metadata": {
        "colab": {
          "base_uri": "https://localhost:8080/"
        },
        "id": "1TppL-UrJ-lT",
        "outputId": "e1f69fa2-f879-403a-d56c-444798cf6c27"
      },
      "execution_count": null,
      "outputs": [
        {
          "output_type": "stream",
          "name": "stdout",
          "text": [
            "8.0\n",
            "4.0\n"
          ]
        }
      ]
    },
    {
      "cell_type": "markdown",
      "source": [
        "2) Observe a seguinte tabela.\n",
        "\n",
        "![image.png](data:image/png;base64,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)\n",
        "\n",
        "- Armazene os dados em variaveis\n",
        "- Calcule a quantidade total de funcionários\n",
        "- A diferença entre o salario mais baixo e o mais alto\n",
        "- A média ponderada da faixa salaria da empresa. ( Pesquisar na internet o método para o calculo de média ponderada)\n",
        "\n",
        "Cada resposta deve estar armazenada em sua variável.\n"
      ],
      "metadata": {
        "id": "pjBMylrUUvwF"
      }
    },
    {
      "cell_type": "code",
      "source": [
        "salario_operador = 3000\n",
        "quantidade_operadores = 42\n",
        "\n",
        "salario_lider = 4500\n",
        "quantidade_lideres = 9\n",
        "\n",
        "salario_gerente = 6000\n",
        "quantidade_gerentes = 3"
      ],
      "metadata": {
        "id": "_w3-JxBsv_xZ"
      },
      "execution_count": null,
      "outputs": []
    },
    {
      "cell_type": "code",
      "source": [
        "total = quantidade_operadores + quantidade_gerentes + quantidade_lideres\n",
        "print(total)"
      ],
      "metadata": {
        "id": "Ujj-k-xKv_tx",
        "colab": {
          "base_uri": "https://localhost:8080/"
        },
        "outputId": "7e0289ea-ed9b-4e4f-c9d7-d4146b2521a9"
      },
      "execution_count": null,
      "outputs": [
        {
          "output_type": "stream",
          "name": "stdout",
          "text": [
            "54\n"
          ]
        }
      ]
    },
    {
      "cell_type": "code",
      "source": [
        "diferenca = max(salario_gerente,salario_lider,salario_operador)-min(salario_gerente,salario_lider,salario_operador)\n",
        "print(diferenca)"
      ],
      "metadata": {
        "id": "XZnov1Nyv_rB",
        "colab": {
          "base_uri": "https://localhost:8080/"
        },
        "outputId": "edd6b13b-329a-43a0-cf62-0fa289c5e494"
      },
      "execution_count": null,
      "outputs": [
        {
          "output_type": "stream",
          "name": "stdout",
          "text": [
            "3000\n"
          ]
        }
      ]
    },
    {
      "cell_type": "code",
      "source": [
        "media = (salario_operador*quantidade_operadores+salario_lider*quantidade_lideres+salario_gerente*quantidade_gerentes)/total\n",
        "print(media)"
      ],
      "metadata": {
        "id": "6SPNxzW8Opdl",
        "colab": {
          "base_uri": "https://localhost:8080/"
        },
        "outputId": "7f03bc02-fc92-4601-c999-c6dd1d49974b"
      },
      "execution_count": null,
      "outputs": [
        {
          "output_type": "stream",
          "name": "stdout",
          "text": [
            "3416.6666666666665\n"
          ]
        }
      ]
    },
    {
      "cell_type": "markdown",
      "source": [
        "3) Crie um programa que calcule a área de um circulo a partir de um raio.\n",
        "\n",
        "Dica: Pesquisar na internet a formula usada para calcular a area através da constante Pi, e aplicar no algoritimo a função da biblioteca math que traz esse valor.\n",
        "\n",
        "https://docs.python.org/pt-br/3/library/math.html\n",
        "\n"
      ],
      "metadata": {
        "id": "Wg568Xv7INEn"
      }
    },
    {
      "cell_type": "code",
      "source": [
        "import math as m\n",
        "\n",
        "raio = float(input('Informe o raio: '))\n",
        "area = round(m.pi*(raio**2),2)\n",
        "print(area)"
      ],
      "metadata": {
        "id": "XiyG__IaLjx4",
        "colab": {
          "base_uri": "https://localhost:8080/"
        },
        "outputId": "d2289dd4-099c-4928-9e2a-767b6f2cc3f8"
      },
      "execution_count": null,
      "outputs": [
        {
          "output_type": "stream",
          "name": "stdout",
          "text": [
            "Informe o raio: 10\n",
            "314.16\n"
          ]
        }
      ]
    },
    {
      "cell_type": "code",
      "source": [],
      "metadata": {
        "id": "Ahgrx2MHQYgb"
      },
      "execution_count": null,
      "outputs": []
    }
  ]
}