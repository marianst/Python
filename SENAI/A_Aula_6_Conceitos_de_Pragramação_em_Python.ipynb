{
  "nbformat": 4,
  "nbformat_minor": 0,
  "metadata": {
    "colab": {
      "provenance": [],
      "collapsed_sections": [
        "Vv7yhQBwVB-K",
        "yab5b6t7VJQK",
        "WNp_HZbtVN1q"
      ]
    },
    "kernelspec": {
      "name": "python3",
      "display_name": "Python 3"
    },
    "language_info": {
      "name": "python"
    }
  },
  "cells": [
    {
      "cell_type": "markdown",
      "source": [
        "# Conceitos de Pragramação em Python:"
      ],
      "metadata": {
        "id": "5GAltI6FV57q"
      }
    },
    {
      "cell_type": "code",
      "source": [
        "from google.colab import drive\n",
        "drive.mount('/content/drive')"
      ],
      "metadata": {
        "colab": {
          "base_uri": "https://localhost:8080/"
        },
        "id": "Lwfy3o4BOeJq",
        "outputId": "8049b330-e54c-4ccf-8f1c-198cdae09afd"
      },
      "execution_count": null,
      "outputs": [
        {
          "output_type": "stream",
          "name": "stdout",
          "text": [
            "Mounted at /content/drive\n"
          ]
        }
      ]
    },
    {
      "cell_type": "markdown",
      "source": [
        "# Estruturas Condicionais"
      ],
      "metadata": {
        "id": "SvU8gvQOU0-Y"
      }
    },
    {
      "cell_type": "markdown",
      "source": [
        "### Estruturas Condicionais"
      ],
      "metadata": {
        "id": "43pgwq3Jl5Ox"
      }
    },
    {
      "cell_type": "markdown",
      "source": [
        "Nesta seção iremos trabalhar com as funções <font color=green>if <font color=black>e <font color=green>else.:"
      ],
      "metadata": {
        "id": "FXdbX5P8l4n_"
      }
    },
    {
      "cell_type": "markdown",
      "source": [
        "IF\n",
        "\n",
        "\n"
      ],
      "metadata": {
        "id": "Q4d20oMnfBUn"
      }
    },
    {
      "cell_type": "code",
      "source": [
        "if 5 == 5 :\n",
        "  print('verdadeiro')\n",
        "else:\n",
        "  print('falso')"
      ],
      "metadata": {
        "id": "AfO9WUnuru5u",
        "outputId": "74e6f3b8-d44c-4081-ee8a-cc6de89a04b5",
        "colab": {
          "base_uri": "https://localhost:8080/"
        }
      },
      "execution_count": null,
      "outputs": [
        {
          "output_type": "stream",
          "name": "stdout",
          "text": [
            "verdadeiro\n"
          ]
        }
      ]
    },
    {
      "cell_type": "markdown",
      "source": [
        "Maior ou menor"
      ],
      "metadata": {
        "id": "ViULFe-xZrLU"
      }
    },
    {
      "cell_type": "code",
      "source": [
        "if 5 < 6 :\n",
        "  print('verdadeiro')\n",
        "else:\n",
        "  print('falso')"
      ],
      "metadata": {
        "id": "y273rHN-Zrks"
      },
      "execution_count": null,
      "outputs": []
    },
    {
      "cell_type": "markdown",
      "source": [
        "ELIF"
      ],
      "metadata": {
        "id": "W1_pJ081sT50"
      }
    },
    {
      "cell_type": "code",
      "source": [
        "nota = float(input('Valor a nota: '))"
      ],
      "metadata": {
        "id": "5GyRlgyLr5AP"
      },
      "execution_count": null,
      "outputs": []
    },
    {
      "cell_type": "markdown",
      "source": [
        "Maneira incorreta"
      ],
      "metadata": {
        "id": "NGVUBC38aAhU"
      }
    },
    {
      "cell_type": "code",
      "source": [
        "if nota <= 4:\n",
        "  print('ruim')\n",
        "if 4 < nota <= 7:\n",
        "  print('bom')\n",
        "else :\n",
        "  print('otimo')"
      ],
      "metadata": {
        "id": "n1L3v5Uqsktc"
      },
      "execution_count": null,
      "outputs": []
    },
    {
      "cell_type": "markdown",
      "source": [
        "Maneira Correta"
      ],
      "metadata": {
        "id": "feRrTsdAaETT"
      }
    },
    {
      "cell_type": "code",
      "source": [
        "if nota <= 4:\n",
        "  print('ruim')\n",
        "elif 4 < nota <= 7:\n",
        "  print('bom')\n",
        "else :\n",
        "  print('otimo')"
      ],
      "metadata": {
        "id": "y51k2lLKtggz"
      },
      "execution_count": null,
      "outputs": []
    },
    {
      "cell_type": "markdown",
      "source": [
        "AND"
      ],
      "metadata": {
        "id": "zuHajXWZuV1K"
      }
    },
    {
      "cell_type": "code",
      "source": [
        "a = b = True\n",
        "c = d = False"
      ],
      "metadata": {
        "id": "iAxRC6N1vZAT"
      },
      "execution_count": null,
      "outputs": []
    },
    {
      "cell_type": "code",
      "source": [
        "if a and b:\n",
        "  print('verdadeiro')\n",
        "else:\n",
        "  print('falso')"
      ],
      "metadata": {
        "id": "V1M2gfozvPgy",
        "colab": {
          "base_uri": "https://localhost:8080/"
        },
        "outputId": "657f1fcd-3d3d-4cd8-e141-cfd16a185f75"
      },
      "execution_count": null,
      "outputs": [
        {
          "output_type": "stream",
          "name": "stdout",
          "text": [
            "verdadeiro\n"
          ]
        }
      ]
    },
    {
      "cell_type": "code",
      "source": [
        "if a and c:\n",
        "  print('verdadeiro')\n",
        "else:\n",
        "  print('falso')"
      ],
      "metadata": {
        "id": "pSzwBWPTv2TN",
        "colab": {
          "base_uri": "https://localhost:8080/"
        },
        "outputId": "a73accc0-24b0-49b1-c2e0-19bb36581238"
      },
      "execution_count": null,
      "outputs": [
        {
          "output_type": "stream",
          "name": "stdout",
          "text": [
            "falso\n"
          ]
        }
      ]
    },
    {
      "cell_type": "markdown",
      "source": [
        "OR"
      ],
      "metadata": {
        "id": "O0AQSdgwv-YQ"
      }
    },
    {
      "cell_type": "code",
      "source": [
        "if a or b:\n",
        "  print('verdadeiro')\n",
        "else:\n",
        "  print('falso')"
      ],
      "metadata": {
        "id": "P2WLIqD9wCz3",
        "colab": {
          "base_uri": "https://localhost:8080/"
        },
        "outputId": "464a4b2c-604e-4e32-d114-c7364cc2397f"
      },
      "execution_count": null,
      "outputs": [
        {
          "output_type": "stream",
          "name": "stdout",
          "text": [
            "verdadeiro\n"
          ]
        }
      ]
    },
    {
      "cell_type": "code",
      "source": [
        "if a or c:\n",
        "  print('verdadeiro')\n",
        "else:\n",
        "  print('falso')"
      ],
      "metadata": {
        "id": "DIlVa4StwHYR",
        "colab": {
          "base_uri": "https://localhost:8080/"
        },
        "outputId": "027c484d-5089-44e2-a6a4-3d3b29a63ae9"
      },
      "execution_count": null,
      "outputs": [
        {
          "output_type": "stream",
          "name": "stdout",
          "text": [
            "verdadeiro\n"
          ]
        }
      ]
    },
    {
      "cell_type": "markdown",
      "source": [
        "IN"
      ],
      "metadata": {
        "id": "fokqlybDwJlm"
      }
    },
    {
      "cell_type": "code",
      "source": [
        "carros = 'astra, Celta, Polo, Gol, Passat, Uno, Voyage, Siena, Corsa, Capitiva, A3, Kombi, Fusca, Opala'"
      ],
      "metadata": {
        "id": "KI5-VzXPwOUI"
      },
      "execution_count": null,
      "outputs": []
    },
    {
      "cell_type": "code",
      "source": [
        "carros"
      ],
      "metadata": {
        "id": "JQoV7un6wzpZ",
        "colab": {
          "base_uri": "https://localhost:8080/",
          "height": 35
        },
        "outputId": "96d96c11-ff4d-4275-ed35-b1b47158ff14"
      },
      "execution_count": null,
      "outputs": [
        {
          "output_type": "execute_result",
          "data": {
            "text/plain": [
              "'astra, Celta, Polo, Gol, Passat, Uno, Voyage, Siena, Corsa, Capitiva, A3, Kombi, Fusca, Opala'"
            ],
            "application/vnd.google.colaboratory.intrinsic+json": {
              "type": "string"
            }
          },
          "metadata": {},
          "execution_count": 8
        }
      ]
    },
    {
      "cell_type": "code",
      "source": [
        "carro1 = 'Gol'"
      ],
      "metadata": {
        "id": "0pjbej0mxWQ5"
      },
      "execution_count": null,
      "outputs": []
    },
    {
      "cell_type": "code",
      "source": [
        "if carro1 in carros:\n",
        "  print('está na lista')\n",
        "else:\n",
        "  print('não está')"
      ],
      "metadata": {
        "id": "lh7DTXG1xZfD",
        "colab": {
          "base_uri": "https://localhost:8080/"
        },
        "outputId": "02c2602b-d321-47b0-ed0e-93d23f2d959b"
      },
      "execution_count": null,
      "outputs": [
        {
          "output_type": "stream",
          "name": "stdout",
          "text": [
            "está na lista\n"
          ]
        }
      ]
    },
    {
      "cell_type": "markdown",
      "source": [
        "###Exemplo"
      ],
      "metadata": {
        "id": "JUHLDn6NgB_a"
      }
    },
    {
      "cell_type": "markdown",
      "source": [
        "O sistema de uma empresa categoriza seus funcionários por tempo de empresa.\n",
        "São 4 classes que variam de acordo com o tempo de experiencia que o funcionário tem de empresa.\n",
        "\n",
        "\n",
        "\n",
        "*   Treinee: até 2 anos\n",
        "*   Junior:2 a 4 anos\n",
        "*   Pleno: 4 a 8 anos\n",
        "*   Sênior:Acima de 8\n",
        "\n"
      ],
      "metadata": {
        "id": "tdlo1Ihwgp5O"
      }
    },
    {
      "cell_type": "code",
      "source": [
        "exp = float(input('Digite quantos anos de empresa você tem? '))\n",
        "\n",
        "if exp <= 2:\n",
        "  print('Treinee')\n",
        "elif 2 < exp <= 4:\n",
        "  print('Junior')\n",
        "elif 4 < exp <= 8:\n",
        "  print('Pleno')\n",
        "else :\n",
        "  print('Sênior')\n"
      ],
      "metadata": {
        "id": "0_hvmI-igHSQ"
      },
      "execution_count": null,
      "outputs": []
    },
    {
      "cell_type": "markdown",
      "source": [
        "# Estruturas de Repetição"
      ],
      "metadata": {
        "id": "Kyy8-qfWU9L2"
      }
    },
    {
      "cell_type": "markdown",
      "source": [
        "## Laço While"
      ],
      "metadata": {
        "id": "Vv7yhQBwVB-K"
      }
    },
    {
      "cell_type": "code",
      "source": [
        "contagem_de_numeros = 1\n",
        "while contagem_de_numeros <= 30:\n",
        "  print(contagem_de_numeros)\n",
        "  contagem_de_numeros = contagem_de_numeros + 1"
      ],
      "metadata": {
        "id": "Q1Y0BkqVVIpc"
      },
      "execution_count": null,
      "outputs": []
    },
    {
      "cell_type": "markdown",
      "source": [
        "\n",
        "##Laço For\n"
      ],
      "metadata": {
        "id": "yab5b6t7VJQK"
      }
    },
    {
      "cell_type": "code",
      "source": [
        " for contagem_de_numeros in range(5,56):\n",
        "  print(contagem_de_numeros)"
      ],
      "metadata": {
        "id": "9k4zvfKQVR5z"
      },
      "execution_count": null,
      "outputs": []
    },
    {
      "cell_type": "markdown",
      "source": [
        "##Exemplo"
      ],
      "metadata": {
        "id": "WNp_HZbtVN1q"
      }
    },
    {
      "cell_type": "code",
      "source": [
        "cont = 1\n",
        "while cont <= 3:\n",
        "  v1 = float(input('Valor 1 = '))\n",
        "  v2 = float(input('Valor 2 = '))\n",
        "\n",
        "  soma = v1+v2\n",
        "  print(soma)\n",
        "  cont = cont + 1"
      ],
      "metadata": {
        "id": "hlMkamJtVQ8F"
      },
      "execution_count": null,
      "outputs": []
    },
    {
      "cell_type": "code",
      "source": [
        "for cont in range(1,4):\n",
        "  v1 = float(input('Valor 1 = '))\n",
        "  v2 = float(input('Valor 2 = '))\n",
        "\n",
        "  soma = v1+v2\n",
        "  print(soma)\n"
      ],
      "metadata": {
        "id": "q6F0WG1gdUCO"
      },
      "execution_count": null,
      "outputs": []
    },
    {
      "cell_type": "markdown",
      "source": [
        "# Estruturas de Dados"
      ],
      "metadata": {
        "id": "vDHH9W3MVVTM"
      }
    },
    {
      "cell_type": "markdown",
      "source": [
        "##Listas"
      ],
      "metadata": {
        "id": "c0DcAPf7VZtl"
      }
    },
    {
      "cell_type": "code",
      "source": [
        "lista1 = ['Guilherme', 32, 'Professor','SENAI']"
      ],
      "metadata": {
        "id": "9MxxDEfeVdBf"
      },
      "execution_count": null,
      "outputs": []
    },
    {
      "cell_type": "code",
      "source": [
        "lista1[0]"
      ],
      "metadata": {
        "id": "nBn1Jq7Ikb9e",
        "colab": {
          "base_uri": "https://localhost:8080/",
          "height": 35
        },
        "outputId": "15fcf91c-ce4e-4c33-fcda-bc7647fd7ba3"
      },
      "execution_count": null,
      "outputs": [
        {
          "output_type": "execute_result",
          "data": {
            "text/plain": [
              "'Guilherme'"
            ],
            "application/vnd.google.colaboratory.intrinsic+json": {
              "type": "string"
            }
          },
          "metadata": {},
          "execution_count": 19
        }
      ]
    },
    {
      "cell_type": "code",
      "source": [
        "lista1[1]"
      ],
      "metadata": {
        "id": "B8x2mqG0kcsL",
        "colab": {
          "base_uri": "https://localhost:8080/"
        },
        "outputId": "328da26d-d528-48ea-aea0-615e8607b64c"
      },
      "execution_count": null,
      "outputs": [
        {
          "output_type": "execute_result",
          "data": {
            "text/plain": [
              "32"
            ]
          },
          "metadata": {},
          "execution_count": 20
        }
      ]
    },
    {
      "cell_type": "code",
      "source": [
        "lista1[:3]"
      ],
      "metadata": {
        "id": "3sqHw_idk2NS",
        "colab": {
          "base_uri": "https://localhost:8080/"
        },
        "outputId": "13594bd3-1de0-45c6-d964-ccff8054a252"
      },
      "execution_count": null,
      "outputs": [
        {
          "output_type": "execute_result",
          "data": {
            "text/plain": [
              "['Guilherme', 32, 'Professor']"
            ]
          },
          "metadata": {},
          "execution_count": 21
        }
      ]
    },
    {
      "cell_type": "code",
      "source": [
        "lista1[1:4]"
      ],
      "metadata": {
        "id": "WFA5xbxHk2wD",
        "colab": {
          "base_uri": "https://localhost:8080/"
        },
        "outputId": "dc16da52-11f7-4893-d754-220353b12962"
      },
      "execution_count": null,
      "outputs": [
        {
          "output_type": "execute_result",
          "data": {
            "text/plain": [
              "[32, 'Professor', 'SENAI']"
            ]
          },
          "metadata": {},
          "execution_count": 22
        }
      ]
    },
    {
      "cell_type": "code",
      "source": [
        "lista2 = [2, 3, 4, 5, 6, 7, 9]"
      ],
      "metadata": {
        "id": "1uVNEtyxk3SM"
      },
      "execution_count": null,
      "outputs": []
    },
    {
      "cell_type": "code",
      "source": [
        "max(lista2[:6]) - min(lista2)"
      ],
      "metadata": {
        "id": "FP69TJJvk3kl",
        "colab": {
          "base_uri": "https://localhost:8080/"
        },
        "outputId": "0dc5c58f-d9f7-4626-d412-000451798b22"
      },
      "execution_count": null,
      "outputs": [
        {
          "output_type": "execute_result",
          "data": {
            "text/plain": [
              "5"
            ]
          },
          "metadata": {},
          "execution_count": 24
        }
      ]
    },
    {
      "cell_type": "code",
      "source": [
        "import statistics as s\n",
        "s.mean(lista2)"
      ],
      "metadata": {
        "id": "ypIOQkIQlypO",
        "colab": {
          "base_uri": "https://localhost:8080/"
        },
        "outputId": "3e2bfa08-e42a-4ae8-8fa8-e641dbeee202"
      },
      "execution_count": null,
      "outputs": [
        {
          "output_type": "execute_result",
          "data": {
            "text/plain": [
              "5.142857142857143"
            ]
          },
          "metadata": {},
          "execution_count": 4
        }
      ]
    },
    {
      "cell_type": "code",
      "source": [
        "var1 = float(input('var'))\n",
        "var2 = float(input('var'))\n",
        "var3 = float(input('var'))\n",
        "\n",
        "\n",
        "lista3 = [var1, var2, var3]"
      ],
      "metadata": {
        "id": "nscy_TpwmHqR",
        "colab": {
          "base_uri": "https://localhost:8080/"
        },
        "outputId": "98904252-8298-431c-dad1-ca63a2ee15de"
      },
      "execution_count": null,
      "outputs": [
        {
          "name": "stdout",
          "output_type": "stream",
          "text": [
            "var3.2\n",
            "var7.85\n",
            "var9.02\n"
          ]
        }
      ]
    },
    {
      "cell_type": "code",
      "source": [
        "s.mean(lista3)"
      ],
      "metadata": {
        "id": "RzDa4Rm_mmGZ",
        "colab": {
          "base_uri": "https://localhost:8080/"
        },
        "outputId": "a961d6e9-f4fb-49b0-a83e-4933d40a6fdf"
      },
      "execution_count": null,
      "outputs": [
        {
          "output_type": "execute_result",
          "data": {
            "text/plain": [
              "6.6899999999999995"
            ]
          },
          "metadata": {},
          "execution_count": 35
        }
      ]
    },
    {
      "cell_type": "code",
      "source": [
        "max(lista3)"
      ],
      "metadata": {
        "id": "mCmiuLCEmycU",
        "colab": {
          "base_uri": "https://localhost:8080/"
        },
        "outputId": "353d487f-d495-4c0b-9685-2af0db68d391"
      },
      "execution_count": null,
      "outputs": [
        {
          "output_type": "execute_result",
          "data": {
            "text/plain": [
              "9.02"
            ]
          },
          "metadata": {},
          "execution_count": 36
        }
      ]
    },
    {
      "cell_type": "markdown",
      "source": [
        "##Dicionários"
      ],
      "metadata": {
        "id": "74elGdgzVdce"
      }
    },
    {
      "cell_type": "code",
      "source": [
        "dicionario1 = {'id':1,\n",
        "               'Nome:':'Guilherme',\n",
        "               'Empresa:':'SENAI'}"
      ],
      "metadata": {
        "id": "mYFLQQWVVg7h"
      },
      "execution_count": null,
      "outputs": []
    },
    {
      "cell_type": "code",
      "source": [
        "dicionario1"
      ],
      "metadata": {
        "id": "wzYtBwT6ohAh",
        "colab": {
          "base_uri": "https://localhost:8080/"
        },
        "outputId": "43992685-92cb-4351-9cd5-110b71ae4d0f"
      },
      "execution_count": null,
      "outputs": [
        {
          "output_type": "execute_result",
          "data": {
            "text/plain": [
              "{'id': 1, 'Nome:': 'Guilherme', 'Empresa:': 'SENAI'}"
            ]
          },
          "metadata": {},
          "execution_count": 45
        }
      ]
    },
    {
      "cell_type": "code",
      "source": [
        "dicionario1['Nome:'] = 'Guilherme Augusto de Morais Barbosa'"
      ],
      "metadata": {
        "id": "fBwPdA2eohVX"
      },
      "execution_count": null,
      "outputs": []
    },
    {
      "cell_type": "code",
      "source": [
        "dicionario1"
      ],
      "metadata": {
        "id": "tC8_UBOZ7oqj",
        "colab": {
          "base_uri": "https://localhost:8080/"
        },
        "outputId": "535f6832-8d91-421d-ce2d-2e1a14cb1ccb"
      },
      "execution_count": null,
      "outputs": [
        {
          "output_type": "execute_result",
          "data": {
            "text/plain": [
              "{'id': 1, 'Nome:': 'Guilherme Augusto de Morais Barbosa', 'Empresa:': 'SENAI'}"
            ]
          },
          "metadata": {},
          "execution_count": 47
        }
      ]
    },
    {
      "cell_type": "code",
      "source": [
        "dicionario1['e-mail'] = 'guilhermeaugusto@gmail.com'"
      ],
      "metadata": {
        "id": "ErPnJdBU7jem"
      },
      "execution_count": null,
      "outputs": []
    },
    {
      "cell_type": "code",
      "source": [
        "dicionario1"
      ],
      "metadata": {
        "id": "FkT4P2WS7mdL",
        "colab": {
          "base_uri": "https://localhost:8080/"
        },
        "outputId": "2045e7b0-7e5c-41d4-bcb9-2ab2d6f4caa4"
      },
      "execution_count": null,
      "outputs": [
        {
          "output_type": "execute_result",
          "data": {
            "text/plain": [
              "{'id': 1,\n",
              " 'Nome:': 'Guilherme Augusto de Morais Barbosa',\n",
              " 'Empresa:': 'SENAI',\n",
              " 'e-mail': 'guilhermeaugusto@gmail.com'}"
            ]
          },
          "metadata": {},
          "execution_count": 49
        }
      ]
    },
    {
      "cell_type": "markdown",
      "source": [
        "# Exercícios"
      ],
      "metadata": {
        "id": "K3vQG7qbVski"
      }
    },
    {
      "cell_type": "markdown",
      "source": [
        "1) Para aprovar candidados em um processo seletivo, a soma dos 3 requisitos deve ser de pelo menos 25.\n",
        "\n",
        "\n",
        "\n",
        "*   Idade\n",
        "*   Experiência\n",
        "*   Tempo de formado\n",
        "\n"
      ],
      "metadata": {
        "id": "-kvuoqKpVwLf"
      }
    },
    {
      "cell_type": "code",
      "source": [
        "requisitos = {'idade': 34,\n",
        "               'Experiencia': 10,\n",
        "               'tempo de formação':15}"
      ],
      "metadata": {
        "id": "0CJ-2o0j-rq8"
      },
      "execution_count": null,
      "outputs": []
    },
    {
      "cell_type": "code",
      "source": [
        "requisitos = {'idade': 18,\n",
        "               'Experiencia': 2,\n",
        "               'tempo de formação':1}"
      ],
      "metadata": {
        "id": "c2pbY8ZRuY2h"
      },
      "execution_count": null,
      "outputs": []
    },
    {
      "cell_type": "code",
      "source": [
        "requisitos['idade']"
      ],
      "metadata": {
        "id": "It1QKRpQ-rmC",
        "colab": {
          "base_uri": "https://localhost:8080/"
        },
        "outputId": "c8d27467-c0e0-4712-b33b-6f07596d0e76"
      },
      "execution_count": null,
      "outputs": [
        {
          "output_type": "execute_result",
          "data": {
            "text/plain": [
              "18"
            ]
          },
          "metadata": {},
          "execution_count": 88
        }
      ]
    },
    {
      "cell_type": "code",
      "source": [
        "tempo_total = requisitos['idade']+requisitos['Experiencia']+requisitos['tempo de formação']"
      ],
      "metadata": {
        "id": "Ju8EsZPD-rhK"
      },
      "execution_count": null,
      "outputs": []
    },
    {
      "cell_type": "code",
      "source": [
        "tempo_total"
      ],
      "metadata": {
        "colab": {
          "base_uri": "https://localhost:8080/"
        },
        "id": "rxzJoaGzuAh5",
        "outputId": "17ff7e76-bd1f-4308-a448-ef4909ccc24f"
      },
      "execution_count": null,
      "outputs": [
        {
          "output_type": "execute_result",
          "data": {
            "text/plain": [
              "21"
            ]
          },
          "metadata": {},
          "execution_count": 90
        }
      ]
    },
    {
      "cell_type": "code",
      "source": [
        "if tempo_total >= 25:\n",
        "   print('Aprovado')\n",
        "else:\n",
        "   print('Reprovado')"
      ],
      "metadata": {
        "colab": {
          "base_uri": "https://localhost:8080/"
        },
        "id": "twTPF2AkuCXh",
        "outputId": "70628f5e-0d29-46f3-ea4f-9a60dfde19c4"
      },
      "execution_count": null,
      "outputs": [
        {
          "output_type": "stream",
          "name": "stdout",
          "text": [
            "Reprovado\n"
          ]
        }
      ]
    },
    {
      "cell_type": "markdown",
      "source": [
        "RESOLUÇÃO"
      ],
      "metadata": {
        "id": "3vIgkCJe16H-"
      }
    },
    {
      "cell_type": "code",
      "source": [
        "idade = int(input('Digite a sua idade: '))\n",
        "experiencia = int(input('Digite quando anos de experiencia possui: '))\n",
        "tempo_formado = int(input('Digite quando anos tem de formado : '))\n",
        "\n",
        "soma = idade + experiencia + tempo_formado\n",
        "\n",
        "\n",
        "if soma >=25:\n",
        "  print('Parabens, voce passou na triagem!')\n",
        "else:\n",
        "  print('Desculpe,infelismente você não passou para a próxima etapa. Mas não desanime!')"
      ],
      "metadata": {
        "colab": {
          "base_uri": "https://localhost:8080/"
        },
        "id": "WA16-DFg17pk",
        "outputId": "69a5fbfe-30b1-457e-b061-6472f8594df6"
      },
      "execution_count": null,
      "outputs": [
        {
          "output_type": "stream",
          "name": "stdout",
          "text": [
            "Digite a sua idade: 18\n",
            "Digite quando anos de experiencia possui: 2\n",
            "Digite quando anos tem de formado : 0\n",
            "Desculpe,infelismente você não passou para a próxima etapa. Mas não desanime!\n"
          ]
        }
      ]
    },
    {
      "cell_type": "markdown",
      "source": [
        "2) Elaborar um algoritimo para colher 3 notas, calcular a média, e classificar de acordo com as 3 categorias\n",
        "\n",
        "0 a 5,99 - Reprovado\n",
        "\n",
        "*   0 a 5,99 - Reprovado\n",
        "*   6 a 7 - Passou Raspando\n",
        "*   acima de 7 - Aprovado\n"
      ],
      "metadata": {
        "id": "IOPMoliIVybu"
      }
    },
    {
      "cell_type": "code",
      "source": [
        "nota1 = float(input('Nota 1: '))\n",
        "nota2 = float(input('Nota 2: '))\n",
        "nota3 = float(input('Nota 3: '))"
      ],
      "metadata": {
        "id": "rKNpHsF3-tnB",
        "colab": {
          "base_uri": "https://localhost:8080/"
        },
        "outputId": "4b92e87d-5e09-465e-dbaf-8f5efa0fbe25"
      },
      "execution_count": null,
      "outputs": [
        {
          "name": "stdout",
          "output_type": "stream",
          "text": [
            "Nota 1: 5\n",
            "Nota 2: 7\n",
            "Nota 3: 2\n"
          ]
        }
      ]
    },
    {
      "cell_type": "code",
      "source": [
        "media = s.mean([nota1,nota2,nota3])"
      ],
      "metadata": {
        "id": "-i6FLQB--tlK"
      },
      "execution_count": null,
      "outputs": []
    },
    {
      "cell_type": "code",
      "source": [
        "if media < 6:\n",
        "  print('Reprovado')\n",
        "elif media <= 7:\n",
        "  print('Passou Raspando')\n",
        "else:\n",
        "  print('Aprovado')"
      ],
      "metadata": {
        "id": "764_xI_e-tia",
        "colab": {
          "base_uri": "https://localhost:8080/"
        },
        "outputId": "88707430-21f4-4a0a-b8b4-d8f5b5d0e5a9"
      },
      "execution_count": null,
      "outputs": [
        {
          "output_type": "stream",
          "name": "stdout",
          "text": [
            "Aprovado\n"
          ]
        }
      ]
    },
    {
      "cell_type": "markdown",
      "source": [
        "3) Crie um algoritimo para que o sistema colha o nome, ano, 5 notas de um aluno, armazene todos os dados em uma lista, descarte a menor nota e tire uma média.\n",
        "\n",
        "![image.png](data:image/png;base64,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)"
      ],
      "metadata": {
        "id": "VJ66yC_PqKP4"
      }
    },
    {
      "cell_type": "code",
      "source": [
        "nome = str(input('Nome: '))\n",
        "ano =  int(input('Ano: '))\n",
        "nota1 = float(input('Nota 1: '))\n",
        "nota2 = float(input('Nota 2: '))\n",
        "nota3 = float(input('Nota 3: '))\n",
        "nota4 = float(input('Nota 4: '))\n",
        "nota5 = float(input('Nota 5: '))\n",
        "\n",
        "dados_aluno = [nome,ano,nota1,nota2,nota3,nota4,nota5]"
      ],
      "metadata": {
        "id": "VrhDItRr-whS",
        "colab": {
          "base_uri": "https://localhost:8080/"
        },
        "outputId": "614a82cf-f176-49dd-b2a2-2f1cbb6b7689"
      },
      "execution_count": null,
      "outputs": [
        {
          "name": "stdout",
          "output_type": "stream",
          "text": [
            "Nome: Mariana\n",
            "Ano: 1989\n",
            "Nota 1: 6\n",
            "Nota 2: 7\n",
            "Nota 3: 8\n",
            "Nota 4: 10\n",
            "Nota 5: 5\n"
          ]
        }
      ]
    },
    {
      "cell_type": "code",
      "source": [
        "menor_nota = min(dados_aluno[2:])"
      ],
      "metadata": {
        "id": "gUMSk6la-waa"
      },
      "execution_count": null,
      "outputs": []
    },
    {
      "cell_type": "code",
      "source": [
        "notas_media = sum(dados_aluno[2:])-menor_nota\n",
        "media = notas_media/4\n",
        "print(media)"
      ],
      "metadata": {
        "colab": {
          "base_uri": "https://localhost:8080/"
        },
        "id": "hS3GVe2Gygle",
        "outputId": "5517ecec-2589-464b-9c09-703f76fcce22"
      },
      "execution_count": null,
      "outputs": [
        {
          "output_type": "stream",
          "name": "stdout",
          "text": [
            "7.75\n"
          ]
        }
      ]
    }
  ]
}