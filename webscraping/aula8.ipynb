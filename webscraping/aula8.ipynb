{
 "cells": [
  {
   "cell_type": "markdown",
   "metadata": {},
   "source": [
    "## Temas avançados com Selenium"
   ]
  },
  {
   "cell_type": "markdown",
   "metadata": {},
   "source": [
    "#### Com selenium podemos simular interações mais complexas de usuário em páginas web"
   ]
  },
  {
   "cell_type": "markdown",
   "metadata": {},
   "source": [
    "\n",
    "- #### Cookies personalizados\n",
    "- #### Requisões Ajax\n",
    "- #### Lazy Load\n",
    "- #### Carregamento condicionado\n",
    "- #### Timeout\n"
   ]
  },
  {
   "cell_type": "markdown",
   "metadata": {},
   "source": [
    "### Cookies personalizados:\n",
    "\n",
    "```\n",
    "cookie = {'name' : 'cookie_teste', 'value' : 'teste'}\n",
    "driver.add_cookie(cookie)\n",
    "driver.get_cookies()\n",
    "```\n"
   ]
  },
  {
   "cell_type": "code",
   "execution_count": null,
   "metadata": {},
   "outputs": [],
   "source": [
    "from selenium import webdriver\n",
    "from selenium.webdriver.common.by import By\n",
    "\n",
    "driver = webdriver.Chrome()\n",
    "\n",
    "driver.get(\"http://selenium.dev\")"
   ]
  },
  {
   "cell_type": "markdown",
   "metadata": {},
   "source": [
    "### Requisições Ajax e Lazy Load:\n",
    "https://www.scrapethissite.com/pages/ajax-javascript/#2013\n",
    "\n",
    "\n",
    "- #### Espera explicita:\n",
    "\n",
    "```\n",
    "from selenium.webdriver.common.by import By\n",
    "from selenium.webdriver.support.ui import WebDriverWait\n",
    "from selenium.webdriver.support import expected_conditions as EC\n",
    "\n",
    "\n",
    "# Aguardar até que o elemento esteja clicável, max 10 segundos\n",
    "elemento = WebDriverWait(driver, 10).until(\n",
    "    EC.element_to_be_clickable((By.ID, \"elemento\"))\n",
    ")\n",
    "\n",
    "```\n",
    "\n",
    "- #### Espera implicita\n",
    "\n",
    "```\n",
    "# Inicialização do WebDriver com espera implícita de 10 segundos\n",
    "driver = webdriver.Chrome()\n",
    "driver.implicitly_wait(10)  # Espera implícita de 10 segundos\n",
    "```"
   ]
  },
  {
   "cell_type": "markdown",
   "metadata": {},
   "source": [
    "### Carregamento condicionado:\n",
    "\n",
    "\n",
    "- #### Scroll:\n",
    "\n",
    "```\n",
    "from selenium.webdriver import ActionChains\n",
    "\n",
    "#scrollar até um elemento\n",
    "iframe = driver.find_element(By.TAG_NAME, \"iframe\")\n",
    "ActionChains(driver)\\\n",
    "        .scroll_to_element(iframe)\\\n",
    "        .perform()\n",
    "\n",
    "#scrollar quantidade especifica\n",
    "\n",
    "ActionChains(driver)\\\n",
    "        .scroll_by_amount(0, delta_y)\\\n",
    "        .perform()\n",
    "\n",
    "\n",
    "```\n",
    "\n",
    "- #### Hover\n",
    "\n",
    "```\n",
    "from selenium.webdriver import ActionChains\n",
    "\n",
    "\n",
    "hoverable = driver.find_element(By.ID, \"hover\")\n",
    "ActionChains(driver)\\\n",
    "        .move_to_element(hoverable)\\\n",
    "        .perform()\n",
    "```\n"
   ]
  },
  {
   "cell_type": "markdown",
   "metadata": {},
   "source": [
    "### Timeout:\n",
    "\n",
    "```\n",
    "# Definindo o tempo máximo de espera para o carregamento da página (em segundos)\n",
    "driver.set_page_load_timeout(10)  # Definindo um timeout de 10 segundos\n",
    "\n",
    "try:\n",
    "    # Tentativa de acessar uma página que levará mais tempo para carregar\n",
    "    driver.get(\"https://www.exemplo.com/paginalenta\")\n",
    "    \n",
    "    # Se a página carregar dentro do tempo limite, podemos continuar com as operações\n",
    "    print(\"Página carregada com sucesso!\")\n",
    "\n",
    "except TimeoutException:\n",
    "    # Se a página não carregar dentro do tempo limite, será lançada uma exceção\n",
    "    print(\"Timeout: A página não pôde ser carregada dentro do tempo limite.\")\n",
    "\n",
    "```"
   ]
  }
 ],
 "metadata": {
  "kernelspec": {
   "display_name": "Python 3.10.9 64-bit",
   "language": "python",
   "name": "python3"
  },
  "language_info": {
   "codemirror_mode": {
    "name": "ipython",
    "version": 3
   },
   "file_extension": ".py",
   "mimetype": "text/x-python",
   "name": "python",
   "nbconvert_exporter": "python",
   "pygments_lexer": "ipython3",
   "version": "3.10.9"
  },
  "orig_nbformat": 4,
  "vscode": {
   "interpreter": {
    "hash": "b0fa6594d8f4cbf19f97940f81e996739fb7646882a419484c72d19e05852a7e"
   }
  }
 },
 "nbformat": 4,
 "nbformat_minor": 2
}
