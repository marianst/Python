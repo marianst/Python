{
 "cells": [
  {
   "cell_type": "markdown",
   "metadata": {},
   "source": [
    "## Interações com Selenium"
   ]
  },
  {
   "cell_type": "markdown",
   "metadata": {},
   "source": [
    "### Explorando as capacidades de automação de interações \n",
    "\n",
    "#### Live coding https://quotes.toscrape.com/\n",
    "\n",
    "- #### login\n",
    "- #### filtro\n",
    "- #### paginação\n",
    "- #### localizar elemento"
   ]
  },
  {
   "cell_type": "code",
   "execution_count": 6,
   "metadata": {},
   "outputs": [],
   "source": [
    "from selenium import webdriver\n",
    "from selenium.webdriver.common.by import By\n",
    "\n",
    "driver = webdriver.Chrome()\n",
    "\n",
    "driver.get(\"https://quotes.toscrape.com/\")\n",
    "\n",
    "#login\n",
    "login_button = driver.find_element(By.XPATH,'/html/body/div/div[1]/div[2]/p/a')\n",
    "login_button.click()\n",
    "username = driver.find_element(By.XPATH,'//*[@id=\"username\"]')\n",
    "username.send_keys(\"admin\")\n",
    "password = driver.find_element(By.XPATH, '//*[@id=\"password\"]')\n",
    "password.send_keys(\"admin\")\n",
    "login_button2 = driver.find_element(By.XPATH,'/html/body/div/form/input[2]')\n",
    "login_button2.click()\n",
    "\n",
    "#interacao na pagina\n",
    "tag_humor = driver.find_element(By.XPATH, '/html/body/div/div[2]/div[2]/span[4]/a')\n",
    "tag_humor.click()\n",
    "next = driver.find_element(By.XPATH,'/html/body/div/div[2]/div[1]/nav/ul/li/a')\n",
    "next.click()\n",
    "quote = driver.find_element(By.CLASS_NAME,\"quote\").text\n"
   ]
  },
  {
   "cell_type": "code",
   "execution_count": 7,
   "metadata": {},
   "outputs": [
    {
     "data": {
      "text/plain": [
       "'“I am free of all prejudice. I hate everyone equally. ”\\nby W.C. Fields (about) - (Goodreads page)\\nTags: humor sinister'"
      ]
     },
     "execution_count": 7,
     "metadata": {},
     "output_type": "execute_result"
    }
   ],
   "source": [
    "quote"
   ]
  },
  {
   "cell_type": "code",
   "execution_count": null,
   "metadata": {},
   "outputs": [],
   "source": []
  }
 ],
 "metadata": {
  "kernelspec": {
   "display_name": "Python 3.10.9 64-bit",
   "language": "python",
   "name": "python3"
  },
  "language_info": {
   "codemirror_mode": {
    "name": "ipython",
    "version": 3
   },
   "file_extension": ".py",
   "mimetype": "text/x-python",
   "name": "python",
   "nbconvert_exporter": "python",
   "pygments_lexer": "ipython3",
   "version": "3.10.9"
  },
  "orig_nbformat": 4,
  "vscode": {
   "interpreter": {
    "hash": "b0fa6594d8f4cbf19f97940f81e996739fb7646882a419484c72d19e05852a7e"
   }
  }
 },
 "nbformat": 4,
 "nbformat_minor": 2
}
