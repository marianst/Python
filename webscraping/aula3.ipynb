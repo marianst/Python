{
 "cells": [
  {
   "cell_type": "markdown",
   "metadata": {},
   "source": [
    "## Web Scraping com BeautifulSoup"
   ]
  },
  {
   "cell_type": "markdown",
   "metadata": {},
   "source": [
    "### **O que é?** \n",
    "#### Biblioteca em Python voltada a parsear documentos HTML e XML"
   ]
  },
  {
   "cell_type": "markdown",
   "metadata": {},
   "source": [
    "### **Como utilizar?**\n",
    "\n",
    "\n",
    "`pip install beautifulsoup4`"
   ]
  },
  {
   "cell_type": "code",
   "execution_count": 2,
   "metadata": {},
   "outputs": [
    {
     "name": "stdout",
     "output_type": "stream",
     "text": [
      "Defaulting to user installation because normal site-packages is not writeable\n",
      "Requirement already satisfied: beautifulsoup4 in c:\\programdata\\anaconda3\\lib\\site-packages (4.11.1)\n",
      "Requirement already satisfied: soupsieve>1.2 in c:\\programdata\\anaconda3\\lib\\site-packages (from beautifulsoup4) (2.3.1)\n"
     ]
    }
   ],
   "source": [
    "!pip3 install beautifulsoup4"
   ]
  },
  {
   "cell_type": "code",
   "execution_count": 10,
   "metadata": {},
   "outputs": [],
   "source": [
    "from bs4 import BeautifulSoup"
   ]
  },
  {
   "cell_type": "markdown",
   "metadata": {},
   "source": [
    "### **Quando utilizar?**\n",
    "\n",
    "- #### Localizar\n",
    "- #### Maninupular\n",
    "- #### Extrair\n",
    "\n"
   ]
  },
  {
   "cell_type": "markdown",
   "metadata": {},
   "source": [
    "### Exemplo"
   ]
  },
  {
   "cell_type": "code",
   "execution_count": 23,
   "metadata": {},
   "outputs": [],
   "source": [
    "html = \"\"\"<!DOCTYPE html>\n",
    "<html lang=\"en\">\n",
    "<head>\n",
    "    <meta charset=\"UTF-8\">\n",
    "    <meta http-equiv=\"X-UA-Compatible\" content=\"IE=edge\">\n",
    "    <meta name=\"viewport\" content=\"width=device-width, initial-scale=1.0\">\n",
    "    <title>Web_scraping_Ada</title>\n",
    "</head>\n",
    "<body>\n",
    "    <h1> Essa é a aula 2 de web scraping da ada</h1>\n",
    "    <h6 class = \"teste\"> esse é um subtitulo</h6>\n",
    "    <p> esse é um paragrafo</p>\n",
    "    <p> esse é um outro paragrafo</p>\n",
    "    \n",
    "\n",
    "    <ul>\n",
    "        <li id=\"teste2\">Item 1</li>\n",
    "        <li>Item 2</li>\n",
    "    </ul>\n",
    "\n",
    "    <ol>\n",
    "        <li>Primeiro item</li>\n",
    "        <li>Segundo item</li>\n",
    "    </ol>\n",
    "</body>\n",
    "</html>\"\"\"\n",
    "\n",
    "html_parsed = BeautifulSoup(html,\"html.parser\")"
   ]
  },
  {
   "cell_type": "code",
   "execution_count": 24,
   "metadata": {},
   "outputs": [
    {
     "data": {
      "text/plain": [
       "<!DOCTYPE html>\n",
       "\n",
       "<html lang=\"en\">\n",
       "<head>\n",
       "<meta charset=\"utf-8\"/>\n",
       "<meta content=\"IE=edge\" http-equiv=\"X-UA-Compatible\"/>\n",
       "<meta content=\"width=device-width, initial-scale=1.0\" name=\"viewport\"/>\n",
       "<title>Web_scraping_Ada</title>\n",
       "</head>\n",
       "<body>\n",
       "<h1> Essa é a aula 2 de web scraping da ada</h1>\n",
       "<h6 class=\"teste\"> esse é um subtitulo</h6>\n",
       "<p> esse é um paragrafo</p>\n",
       "<p> esse é um outro paragrafo</p>\n",
       "<ul>\n",
       "<li id=\"teste2\">Item 1</li>\n",
       "<li>Item 2</li>\n",
       "</ul>\n",
       "<ol>\n",
       "<li>Primeiro item</li>\n",
       "<li>Segundo item</li>\n",
       "</ol>\n",
       "</body>\n",
       "</html>"
      ]
     },
     "execution_count": 24,
     "metadata": {},
     "output_type": "execute_result"
    }
   ],
   "source": [
    "html_parsed"
   ]
  },
  {
   "cell_type": "code",
   "execution_count": 13,
   "metadata": {},
   "outputs": [
    {
     "name": "stdout",
     "output_type": "stream",
     "text": [
      "<!DOCTYPE html>\n",
      "<html lang=\"en\">\n",
      " <head>\n",
      "  <meta charset=\"utf-8\"/>\n",
      "  <meta content=\"IE=edge\" http-equiv=\"X-UA-Compatible\"/>\n",
      "  <meta content=\"width=device-width, initial-scale=1.0\" name=\"viewport\"/>\n",
      "  <title>\n",
      "   Web_scraping_Ada\n",
      "  </title>\n",
      " </head>\n",
      " <body>\n",
      "  <h1>\n",
      "   Essa é a aula 2 de web scraping da ada\n",
      "  </h1>\n",
      "  <h6>\n",
      "   esse é um subtitulo\n",
      "  </h6>\n",
      "  <p>\n",
      "   esse é um paragrafo\n",
      "  </p>\n",
      "  <p>\n",
      "   esse é um outro paragrafo\n",
      "  </p>\n",
      "  <ul>\n",
      "   <li>\n",
      "    Item 1\n",
      "   </li>\n",
      "   <li>\n",
      "    Item 2\n",
      "   </li>\n",
      "  </ul>\n",
      "  <ol>\n",
      "   <li>\n",
      "    Primeiro item\n",
      "   </li>\n",
      "   <li>\n",
      "    Segundo item\n",
      "   </li>\n",
      "  </ol>\n",
      " </body>\n",
      "</html>\n"
     ]
    }
   ],
   "source": [
    "print(html_parsed.prettify())"
   ]
  },
  {
   "cell_type": "code",
   "execution_count": null,
   "metadata": {},
   "outputs": [],
   "source": []
  },
  {
   "cell_type": "markdown",
   "metadata": {},
   "source": [
    "### Metodos principais:\n",
    "\n",
    "- #### find()\n",
    "- #### find_all()"
   ]
  },
  {
   "cell_type": "code",
   "execution_count": 15,
   "metadata": {},
   "outputs": [
    {
     "data": {
      "text/plain": [
       "<p> esse é um paragrafo</p>"
      ]
     },
     "execution_count": 15,
     "metadata": {},
     "output_type": "execute_result"
    }
   ],
   "source": [
    "html_parsed.find(\"p\")"
   ]
  },
  {
   "cell_type": "code",
   "execution_count": 16,
   "metadata": {},
   "outputs": [
    {
     "data": {
      "text/plain": [
       "[<p> esse é um paragrafo</p>, <p> esse é um outro paragrafo</p>]"
      ]
     },
     "execution_count": 16,
     "metadata": {},
     "output_type": "execute_result"
    }
   ],
   "source": [
    "html_parsed.find_all(\"p\")"
   ]
  },
  {
   "cell_type": "code",
   "execution_count": 22,
   "metadata": {},
   "outputs": [
    {
     "data": {
      "text/plain": [
       "<h6 class=\"teste\"> esse é um subtitulo</h6>"
      ]
     },
     "execution_count": 22,
     "metadata": {},
     "output_type": "execute_result"
    }
   ],
   "source": [
    "html_parsed.find(class_ = \"teste\")"
   ]
  },
  {
   "cell_type": "code",
   "execution_count": 25,
   "metadata": {},
   "outputs": [
    {
     "data": {
      "text/plain": [
       "<li id=\"teste2\">Item 1</li>"
      ]
     },
     "execution_count": 25,
     "metadata": {},
     "output_type": "execute_result"
    }
   ],
   "source": [
    "html_parsed.find(id = \"teste2\")"
   ]
  },
  {
   "cell_type": "code",
   "execution_count": null,
   "metadata": {},
   "outputs": [],
   "source": []
  }
 ],
 "metadata": {
  "kernelspec": {
   "display_name": "Python 3.10.9 64-bit",
   "language": "python",
   "name": "python3"
  },
  "language_info": {
   "codemirror_mode": {
    "name": "ipython",
    "version": 3
   },
   "file_extension": ".py",
   "mimetype": "text/x-python",
   "name": "python",
   "nbconvert_exporter": "python",
   "pygments_lexer": "ipython3",
   "version": "3.9.12"
  },
  "orig_nbformat": 4,
  "vscode": {
   "interpreter": {
    "hash": "b0fa6594d8f4cbf19f97940f81e996739fb7646882a419484c72d19e05852a7e"
   }
  }
 },
 "nbformat": 4,
 "nbformat_minor": 2
}
